{
  "nbformat": 4,
  "nbformat_minor": 0,
  "metadata": {
    "colab": {
      "provenance": []
    },
    "kernelspec": {
      "name": "python3",
      "display_name": "Python 3"
    },
    "language_info": {
      "name": "python"
    }
  },
  "cells": [
    {
      "cell_type": "code",
      "execution_count": null,
      "metadata": {
        "colab": {
          "base_uri": "https://localhost:8080/",
          "height": 383
        },
        "id": "BX9_tpiHX_xf",
        "outputId": "54c6b232-7350-4e54-965f-b57b2f013ec5"
      },
      "outputs": [
        {
          "output_type": "error",
          "ename": "ModuleNotFoundError",
          "evalue": "ignored",
          "traceback": [
            "\u001b[0;31m---------------------------------------------------------------------------\u001b[0m",
            "\u001b[0;31mModuleNotFoundError\u001b[0m                       Traceback (most recent call last)",
            "\u001b[0;32m<ipython-input-10-af2b8b556f78>\u001b[0m in \u001b[0;36m<cell line: 2>\u001b[0;34m()\u001b[0m\n\u001b[1;32m      1\u001b[0m \u001b[0;32mimport\u001b[0m \u001b[0mmatplotlib\u001b[0m\u001b[0;34m.\u001b[0m\u001b[0mpyplot\u001b[0m \u001b[0;32mas\u001b[0m \u001b[0mplt\u001b[0m\u001b[0;34m\u001b[0m\u001b[0;34m\u001b[0m\u001b[0m\n\u001b[0;32m----> 2\u001b[0;31m \u001b[0;32mimport\u001b[0m \u001b[0malpha_vantage\u001b[0m \u001b[0;32mas\u001b[0m \u001b[0mav\u001b[0m\u001b[0;34m\u001b[0m\u001b[0;34m\u001b[0m\u001b[0m\n\u001b[0m\u001b[1;32m      3\u001b[0m \u001b[0;32mfrom\u001b[0m \u001b[0mav\u001b[0m\u001b[0;34m.\u001b[0m\u001b[0mtimeseries\u001b[0m \u001b[0;32mimport\u001b[0m \u001b[0mTimeSeries\u001b[0m\u001b[0;34m\u001b[0m\u001b[0;34m\u001b[0m\u001b[0m\n\u001b[1;32m      4\u001b[0m \u001b[0;34m\u001b[0m\u001b[0m\n\u001b[1;32m      5\u001b[0m \u001b[0mts\u001b[0m \u001b[0;34m=\u001b[0m \u001b[0mTimeSeries\u001b[0m\u001b[0;34m(\u001b[0m\u001b[0mkey\u001b[0m\u001b[0;34m=\u001b[0m\u001b[0;34m'P68VZ6AIIS7K8Z21'\u001b[0m\u001b[0;34m,\u001b[0m \u001b[0moutput_format\u001b[0m\u001b[0;34m=\u001b[0m\u001b[0;34m'pandas'\u001b[0m\u001b[0;34m)\u001b[0m\u001b[0;34m\u001b[0m\u001b[0;34m\u001b[0m\u001b[0m\n",
            "\u001b[0;31mModuleNotFoundError\u001b[0m: No module named 'alpha_vantage'",
            "",
            "\u001b[0;31m---------------------------------------------------------------------------\u001b[0;32m\nNOTE: If your import is failing due to a missing package, you can\nmanually install dependencies using either !pip or !apt.\n\nTo view examples of installing some common dependencies, click the\n\"Open Examples\" button below.\n\u001b[0;31m---------------------------------------------------------------------------\u001b[0m\n"
          ],
          "errorDetails": {
            "actions": [
              {
                "action": "open_url",
                "actionText": "Open Examples",
                "url": "/notebooks/snippets/importing_libraries.ipynb"
              }
            ]
          }
        }
      ],
      "source": [
        "import matplotlib.pyplot as plt\n",
        "\n",
        "from alpha_vantage.timeseries import TimeSeries\n",
        "\n",
        "ts = TimeSeries(key='P68VZ6AIIS7K8Z21', output_format='pandas')\n",
        "data, meta_data = ts.get_intraday(symbol='GOOGL',interval='1min', outputsize='full')\n",
        "X1=data.iloc[:,3]\n",
        "\n",
        "ts = TimeSeries(key='P68VZ6AIIS7K8Z21', output_format='pandas')\n",
        "data, meta_data = ts.get_intraday(symbol='INFY',interval='1min', outputsize='full')\n",
        "X2=data.iloc[:,3]\n",
        "\n",
        "ts = TimeSeries(key='P68VZ6AIIS7K8Z21', output_format='pandas')\n",
        "data, meta_data = ts.get_intraday(symbol='AMZN',interval='1min', outputsize='full')\n",
        "X3=data.iloc[:,3]\n",
        "\n",
        "ts = TimeSeries(key='P68VZ6AIIS7K8Z21', output_format='pandas')\n",
        "data, meta_data = ts.get_intraday(symbol='FB',interval='1min', outputsize='full')\n",
        "X4=data.iloc[:,3]\n",
        "\n",
        "plt.axis([0,2000 , min(X1)-1, max(X1)+1]) #plt.figure(figsize=(5,5))\n",
        "\n",
        "i=0\n",
        "for i in range(2000):\n",
        "  temp_y1 = X1[i]\n",
        "  plt.subplot(2, 2, 1)\n",
        "  plt.scatter(i, temp_y1)\n",
        "  plt.title('Google')\n",
        "\n",
        "temp_y2 = X2[i]\n",
        "plt.subplot(2, 2, 2)\n",
        "plt.scatter(i, temp_y2)\n",
        "plt.title('Infosys')\n",
        "\n",
        "\n",
        "temp_y3 = X3[i]\n",
        "plt.subplot(2, 2, 3)\n",
        "plt.scatter(i, temp_y3)\n",
        "plt.title('WallMart')\n",
        "\n",
        "temp_y4 = X4[i]\n",
        "plt.subplot(2, 2, 4)\n",
        "plt.scatter(i, temp_y4)\n",
        "plt.title('Amazon')\n",
        "\n",
        "plt.pause(1)\n",
        "plt.show()\n",
        "\n"
      ]
    },
    {
      "cell_type": "code",
      "source": [
        "\n",
        "import pandas as pd import matplotlib.pyplot as plt\n",
        "\n",
        "dataset1=pd.read_csv(\"C:/Users/HP/Desktop/BDA PROJECT/FaceBookHistoricalQuotes.csv\") dataset2=pd.read_csv(\"C:/Users/HP/Desktop/BDA PROJECT/WalmartHistoricalQuotes.csv\") y1=dataset1.iloc[:,1] y2=dataset2.iloc[:,1]\n",
        "\n",
        "plt.figure(figsize=(5,5)) plt.subplot(2,1,1) plt.plot(y1,'r') plt.title('AAPL')\n",
        "\n",
        "plt.legend()\n",
        "\n",
        "plt.subplot(2,1,2) plt.plot(y2,'b') plt.title('WMT')\n",
        "\n",
        "plt.legend()\n",
        "\n",
        "plt.show()"
      ],
      "metadata": {
        "id": "3uDsVPGDYNHC"
      },
      "execution_count": null,
      "outputs": []
    }
  ]
}